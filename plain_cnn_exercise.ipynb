{
 "cells": [
  {
   "cell_type": "code",
   "execution_count": 1,
   "metadata": {
    "collapsed": true
   },
   "outputs": [],
   "source": [
    "import numpy as np\n",
    "import tensorflow as tf\n",
    "from utils import *\n",
    "from tensorflow.contrib import learn\n",
    "from tensorflow.contrib import layers\n",
    "from tensorflow.contrib.learn import *\n",
    "from tensorflow.contrib.learn.python.learn.estimators import model_fn as model_fn_lib\n",
    "\n",
    "tf.logging.set_verbosity(tf.logging.INFO)"
   ]
  },
  {
   "cell_type": "markdown",
   "metadata": {},
   "source": [
    "## Input function for training\n",
    "\n",
    "- Get image data from the given directory \n",
    "- Put the data into TensorFlow Queue\n",
    "- Return (features, label)\n",
    "    - features: a Tensor with shape (batch_size, height, width, channels) \n",
    "    - label: a Tensor with shape (batch_size)"
   ]
  },
  {
   "cell_type": "code",
   "execution_count": 2,
   "metadata": {
    "collapsed": true
   },
   "outputs": [],
   "source": [
    "train_input_fn = read_img(data_dir='data/train', batch_size=32, shuffle=True)"
   ]
  },
  {
   "cell_type": "code",
   "execution_count": 3,
   "metadata": {},
   "outputs": [
    {
     "data": {
      "text/plain": [
       "(<tf.Tensor 'features:0' shape=(?, 256, 256, 3) dtype=float32>,\n",
       " <tf.Tensor 'label:0' shape=(?,) dtype=int32>)"
      ]
     },
     "execution_count": 3,
     "metadata": {},
     "output_type": "execute_result"
    }
   ],
   "source": [
    "train_input_fn()"
   ]
  },
  {
   "cell_type": "markdown",
   "metadata": {},
   "source": [
    "### Define CNN model function"
   ]
  },
  {
   "cell_type": "code",
   "execution_count": null,
   "metadata": {
    "collapsed": true
   },
   "outputs": [],
   "source": [
    "def cnn_model_fn(features, labels, mode, params):\n",
    "    \"\"\"\n",
    "    Model function for CNN\n",
    "    :param features: images features with shape (batch_size, height, width, channels)\n",
    "    :param labels: images category with shape (batch_size)\n",
    "    :param mode: Specifies if this training, evaluation or\n",
    "                 prediction. See `model_fn_lib.ModeKey`\n",
    "    :param params: dict of hyperparameters\n",
    "    :return: predictions, loss, train_op, Optional(eval_op). See `model_fn_lib.ModelFnOps`\n",
    "    \"\"\"\n",
    "    \n",
    "    # Convolutional Layer #1\n",
    "    conv1 = tf.layers.conv2d(\n",
    "        inputs=features,\n",
    "        filters=32,\n",
    "        kernel_size=[3, 3],\n",
    "        padding=\"same\",\n",
    "        activation=tf.nn.relu)\n",
    "\n",
    "    # Pooling Layer #1\n",
    "    pool1 = tf.layers.max_pooling2d(inputs=conv1, pool_size=[2, 2], strides=2)\n",
    "    \n",
    "    # Convolutional Layer #2 and Pooling Layer #2\n",
    "    \"\"\"\n",
    "    Your code here\n",
    "    \"\"\"\n",
    "\n",
    "    # Convolutional Layer #3 and Pooling Layer #3\n",
    "    \"\"\"\n",
    "    Your code here\n",
    "    \"\"\"\n",
    "    pool3 = ???\n",
    "    \n",
    "    # Dense Layer\n",
    "    pool_flat = tf.reshape(pool3, [-1, ??? * ??? * ???])\n",
    "    dense = tf.layers.dense(...)\n",
    "    dropout = tf.layers.dropout(inputs=dense, rate=params['drop_out_rate']\n",
    "                                , training=mode == learn.ModeKeys.TRAIN)\n",
    "    \n",
    "    # Logits Layer, a final layer before applying softmax\n",
    "    logits = ???\n",
    "    \n",
    "    # Calculate Loss (for both TRAIN and EVAL modes)\n",
    "    if mode != learn.ModeKeys.INFER:\n",
    "        onehot_labels = tf.one_hot(indices=tf.cast(labels, tf.int32), depth=5, name=\"onehot\")\n",
    "        loss = ???\n",
    "        \n",
    "    # Configure the Training Op (for TRAIN mode)\n",
    "    if mode == learn.ModeKeys.TRAIN:\n",
    "        train_op = tf.contrib.layers.optimize_loss(...)\n",
    "    \n",
    "    # Generate Predictions\n",
    "    predictions = {\n",
    "        \"classes\": ???,\n",
    "        \"probabilities\": ???\n",
    "    }\n",
    "    \n",
    "    # Return a ModelFnOps object\n",
    "    return model_fn_lib.ModelFnOps(mode=mode, \n",
    "                                   predictions=predictions, \n",
    "                                   loss=loss, \n",
    "                                   train_op=train_op)"
   ]
  },
  {
   "cell_type": "markdown",
   "metadata": {},
   "source": [
    "### Define Data Preprocessing"
   ]
  },
  {
   "cell_type": "code",
   "execution_count": null,
   "metadata": {
    "collapsed": true
   },
   "outputs": [],
   "source": [
    "def feature_engineering_fn(features, labels):\n",
    "    \"\"\"\n",
    "    feature_engineering_fn: Feature engineering function. Takes features and\n",
    "                              labels which are the output of `input_fn` and\n",
    "                              returns features and labels which will be fed\n",
    "                              into `model_fn`\n",
    "    \"\"\"\n",
    "    \n",
    "    features = tf.to_float(features)\n",
    "    \n",
    "    # Preprocessing or Data Augmentation\n",
    "    # tf.image implements most of the standard image augmentation\n",
    "\n",
    "    # Example\n",
    "    # Subtract off the mean and divide by the variance of the pixels.\n",
    "    features = tf.map_fn(tf.image.per_image_standardization, features)\n",
    "    \n",
    "    return features, labels"
   ]
  },
  {
   "cell_type": "markdown",
   "metadata": {},
   "source": [
    "### Instantiate an Estimator"
   ]
  },
  {
   "cell_type": "code",
   "execution_count": null,
   "metadata": {
    "collapsed": true
   },
   "outputs": [],
   "source": [
    "run_config = RunConfig(save_summary_steps=10, keep_checkpoint_max=2, save_checkpoints_secs=30)\n",
    "params = ???\n",
    "#use \"model/plain_cnn\" as model_dir\n",
    "cnn_classifier = learn.Estimator(....)"
   ]
  },
  {
   "cell_type": "code",
   "execution_count": null,
   "metadata": {
    "collapsed": true
   },
   "outputs": [],
   "source": [
    "# Configure the accuracy metric for evaluation\n",
    "metrics = {\n",
    "    \"accuracy\":\n",
    "        learn.MetricSpec(\n",
    "            metric_fn=tf.metrics.accuracy, prediction_key=\"classes\")\n",
    "}"
   ]
  },
  {
   "cell_type": "markdown",
   "metadata": {},
   "source": [
    "### Define input function for validation monitor and Instantiate a Validation Monitor"
   ]
  },
  {
   "cell_type": "code",
   "execution_count": null,
   "metadata": {
    "collapsed": true
   },
   "outputs": [],
   "source": [
    "#validation data is in 'data/validate' folder, batch size = 128\n",
    "validate_input_fn = ???\n",
    "validation_monitor = monitors.ValidationMonitor(input_fn=validate_input_fn,\n",
    "                                                eval_steps=10,\n",
    "                                                every_n_steps=50,\n",
    "                                                metrics=metrics,\n",
    "                                                name='validation')"
   ]
  },
  {
   "cell_type": "markdown",
   "metadata": {},
   "source": [
    "### Start training the model"
   ]
  },
  {
   "cell_type": "code",
   "execution_count": null,
   "metadata": {
    "collapsed": true
   },
   "outputs": [],
   "source": [
    "cnn_classifier.fit(...)"
   ]
  },
  {
   "cell_type": "markdown",
   "metadata": {},
   "source": [
    "### Final evaluation on unseen test data set"
   ]
  },
  {
   "cell_type": "code",
   "execution_count": null,
   "metadata": {
    "collapsed": true
   },
   "outputs": [],
   "source": [
    "#test data is in 'data/test' folder, batch size = 512\n",
    "test_input_fn = ???\n",
    "#steps = 1\n",
    "cnn_classifier.evaluate(...)"
   ]
  }
 ],
 "metadata": {
  "kernelspec": {
   "display_name": "Python 3",
   "language": "python",
   "name": "python3"
  },
  "language_info": {
   "codemirror_mode": {
    "name": "ipython",
    "version": 3.0
   },
   "file_extension": ".py",
   "mimetype": "text/x-python",
   "name": "python",
   "nbconvert_exporter": "python",
   "pygments_lexer": "ipython3",
   "version": "3.6.1"
  }
 },
 "nbformat": 4,
 "nbformat_minor": 0
}